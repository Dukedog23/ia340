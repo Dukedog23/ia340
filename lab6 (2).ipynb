{
 "cells": [
  {
   "cell_type": "markdown",
   "id": "d21b162a",
   "metadata": {},
   "source": [
    "## import libraries "
   ]
  },
  {
   "cell_type": "code",
   "execution_count": 20,
   "id": "e0080dda",
   "metadata": {},
   "outputs": [],
   "source": [
    "import pandas\n",
    "import configparser\n",
    "import psycopg2"
   ]
  },
  {
   "cell_type": "code",
   "execution_count": 21,
   "id": "82cc6b71",
   "metadata": {},
   "outputs": [],
   "source": [
    "config = configparser.ConfigParser()\n",
    "config.read('config.ini')\n",
    "\n",
    "host = config['myaws']['host']\n",
    "db = config['myaws']['db']\n",
    "user = config['myaws']['user']\n",
    "pwd = config['myaws']['pwd']"
   ]
  },
  {
   "cell_type": "code",
   "execution_count": 22,
   "id": "d4e796b1",
   "metadata": {},
   "outputs": [],
   "source": [
    "conn = psycopg2.connect(host = host,\n",
    "                       user = user,\n",
    "                        password = pwd,\n",
    "                        dbname = db\n",
    "                       )\n",
    "cur = conn.cursor()"
   ]
  },
  {
   "cell_type": "markdown",
   "id": "c0940158",
   "metadata": {},
   "source": [
    "## create the house table"
   ]
  },
  {
   "cell_type": "markdown",
   "id": "95b62ba4",
   "metadata": {},
   "source": [
    "make sure change the schema name to your gp number"
   ]
  },
  {
   "cell_type": "code",
   "execution_count": 23,
   "id": "c940bff3",
   "metadata": {},
   "outputs": [],
   "source": [
    "\n",
    "\n",
    "# replace the schema and table name to your schema and table name\n",
    "table_sql = \"\"\"\n",
    "            CREATE TABLE IF NOT EXISTS gp17.house1\n",
    "            (\n",
    "\n",
    "                price integer,\n",
    "                bed integer,\n",
    "                bath integer,\n",
    "                area integer,\n",
    "                address VARCHAR(200),\n",
    "                PRIMARY KEY(address)\n",
    "            );\n",
    "\n",
    "            \"\"\"\n",
    "\n"
   ]
  },
  {
   "cell_type": "markdown",
   "id": "675de734",
   "metadata": {},
   "source": [
    "use the bellow cell only if you want to delete the table"
   ]
  },
  {
   "cell_type": "code",
   "execution_count": 24,
   "id": "efaafbb0",
   "metadata": {},
   "outputs": [],
   "source": [
    "#conn.rollback()\n",
    "#table_sql=\"drop table if exists demo.house\""
   ]
  },
  {
   "cell_type": "code",
   "execution_count": 25,
   "id": "d55dafa3",
   "metadata": {},
   "outputs": [],
   "source": [
    "\n",
    "cur.execute(table_sql)\n",
    "conn.commit()"
   ]
  },
  {
   "cell_type": "markdown",
   "id": "a937d97c",
   "metadata": {},
   "source": [
    "## define the search region"
   ]
  },
  {
   "cell_type": "code",
   "execution_count": null,
   "id": "ec9ea2a8",
   "metadata": {},
   "outputs": [],
   "source": [
    "url = 'https://www.trulia.com/VA/Alexandria/'"
   ]
  },
  {
   "cell_type": "code",
   "execution_count": null,
   "id": "b673b0e9",
   "metadata": {},
   "outputs": [],
   "source": [
    "\n",
    "\n",
    "import urllib.request\n",
    "response = urllib.request.urlopen(url)\n",
    "html_data= response.read()\n",
    "#print(html_data.decode('utf-8'))\n",
    "\n"
   ]
  },
  {
   "cell_type": "code",
   "execution_count": null,
   "id": "4f1022d1",
   "metadata": {
    "scrolled": true
   },
   "outputs": [],
   "source": [
    "\n",
    "\n",
    "from bs4 import BeautifulSoup\n",
    "soup = BeautifulSoup(html_data,'html.parser')\n",
    "#print (soup)\n",
    "\n"
   ]
  },
  {
   "cell_type": "markdown",
   "id": "2a2d30af",
   "metadata": {},
   "source": [
    "## insert the records into database"
   ]
  },
  {
   "cell_type": "code",
   "execution_count": 46,
   "id": "7c9bdad8",
   "metadata": {},
   "outputs": [],
   "source": [
    "\n",
    "for li_class in soup.find_all('li', class_ = 'Grid__CellBox-sc-144isrp-0 SearchResultsList__WideCell-b7y9ki-2 jiZmPM'):\n",
    "    try:\n",
    "        for price_div in li_class.find_all('div',{'data-testid':'property-price'}):\n",
    "            price =int(price_div.text.replace('$','').replace(\",\",\"\"))\n",
    "        for bed_div in li_class.find_all('div', {'data-testid':'property-beds'}):\n",
    "            bed= int(bed_div.text.replace('bd','').replace(\",\",\"\"))\n",
    "        for bath_div in li_class.find_all('div',{'data-testid':'property-baths'}):\n",
    "            bath =int(bath_div.text.replace('ba','').replace(\",\",\"\"))\n",
    "        for area_div in li_class.find_all('div',{'data-testid':'property-floorSpace'}):\n",
    "            area=int(area_div.text.split('sqft')[0].replace(\",\",\"\"))\n",
    "        for address_div in li_class.find_all('div',{'data-testid':'property-address'}):\n",
    "            address =address_div.text\n",
    "\n",
    "        try:\n",
    "            sql_insert = \"\"\"\n",
    "                        insert into gp17.house1(price,bed,bath,area,address)\n",
    "                        values('{}','{}','{}','{}','{}')            \n",
    "                        \"\"\".format(price,bed,bath,area,address)\n",
    "\n",
    "            cur.execute(sql_insert)\n",
    "            conn.commit()\n",
    "        except:\n",
    "            conn.rollback()\n",
    "    except:\n",
    "        pass\n",
    "        "
   ]
  },
  {
   "cell_type": "markdown",
   "id": "d34ca77d",
   "metadata": {},
   "source": [
    "## Query the Table"
   ]
  },
  {
   "cell_type": "code",
   "execution_count": 47,
   "id": "180369b1",
   "metadata": {},
   "outputs": [
    {
     "data": {
      "text/html": [
       "<div>\n",
       "<style scoped>\n",
       "    .dataframe tbody tr th:only-of-type {\n",
       "        vertical-align: middle;\n",
       "    }\n",
       "\n",
       "    .dataframe tbody tr th {\n",
       "        vertical-align: top;\n",
       "    }\n",
       "\n",
       "    .dataframe thead th {\n",
       "        text-align: right;\n",
       "    }\n",
       "</style>\n",
       "<table border=\"1\" class=\"dataframe\">\n",
       "  <thead>\n",
       "    <tr style=\"text-align: right;\">\n",
       "      <th></th>\n",
       "      <th>price</th>\n",
       "      <th>bed</th>\n",
       "      <th>bath</th>\n",
       "      <th>area</th>\n",
       "      <th>address</th>\n",
       "    </tr>\n",
       "  </thead>\n",
       "  <tbody>\n",
       "    <tr>\n",
       "      <th>0</th>\n",
       "      <td>18500000</td>\n",
       "      <td>9</td>\n",
       "      <td>15</td>\n",
       "      <td>14750</td>\n",
       "      <td>2221 30th St NW, Washington, DC 20008</td>\n",
       "    </tr>\n",
       "    <tr>\n",
       "      <th>1</th>\n",
       "      <td>1375000</td>\n",
       "      <td>4</td>\n",
       "      <td>4</td>\n",
       "      <td>2472</td>\n",
       "      <td>3110 Quesada St NW, Washington, DC 20015</td>\n",
       "    </tr>\n",
       "    <tr>\n",
       "      <th>2</th>\n",
       "      <td>1200000</td>\n",
       "      <td>3</td>\n",
       "      <td>3</td>\n",
       "      <td>2152</td>\n",
       "      <td>323 4th St SE, Washington, DC 20003</td>\n",
       "    </tr>\n",
       "    <tr>\n",
       "      <th>3</th>\n",
       "      <td>3995000</td>\n",
       "      <td>6</td>\n",
       "      <td>6</td>\n",
       "      <td>8000</td>\n",
       "      <td>5063 Overlook Rd NW, Washington, DC 20016</td>\n",
       "    </tr>\n",
       "    <tr>\n",
       "      <th>4</th>\n",
       "      <td>1250000</td>\n",
       "      <td>4</td>\n",
       "      <td>3</td>\n",
       "      <td>2295</td>\n",
       "      <td>3517 R St NW, Washington, DC 20007</td>\n",
       "    </tr>\n",
       "    <tr>\n",
       "      <th>5</th>\n",
       "      <td>949900</td>\n",
       "      <td>4</td>\n",
       "      <td>5</td>\n",
       "      <td>1939</td>\n",
       "      <td>1315 Tuckerman St NW, Washington, DC 20011</td>\n",
       "    </tr>\n",
       "    <tr>\n",
       "      <th>6</th>\n",
       "      <td>599000</td>\n",
       "      <td>2</td>\n",
       "      <td>2</td>\n",
       "      <td>880</td>\n",
       "      <td>411 Warner St NW, Washington, DC 20001</td>\n",
       "    </tr>\n",
       "    <tr>\n",
       "      <th>7</th>\n",
       "      <td>4900000</td>\n",
       "      <td>7</td>\n",
       "      <td>5</td>\n",
       "      <td>6368</td>\n",
       "      <td>12 Logan Cir NW, Washington, DC 20005</td>\n",
       "    </tr>\n",
       "    <tr>\n",
       "      <th>8</th>\n",
       "      <td>525000</td>\n",
       "      <td>3</td>\n",
       "      <td>3</td>\n",
       "      <td>2176</td>\n",
       "      <td>950 Division Ave NE, Washington, DC 20019</td>\n",
       "    </tr>\n",
       "    <tr>\n",
       "      <th>9</th>\n",
       "      <td>11950000</td>\n",
       "      <td>11</td>\n",
       "      <td>17</td>\n",
       "      <td>17631</td>\n",
       "      <td>3301 Fessenden St NW, Washington, DC 20008</td>\n",
       "    </tr>\n",
       "  </tbody>\n",
       "</table>\n",
       "</div>"
      ],
      "text/plain": [
       "      price  bed  bath   area                                     address\n",
       "0  18500000    9    15  14750       2221 30th St NW, Washington, DC 20008\n",
       "1   1375000    4     4   2472    3110 Quesada St NW, Washington, DC 20015\n",
       "2   1200000    3     3   2152         323 4th St SE, Washington, DC 20003\n",
       "3   3995000    6     6   8000   5063 Overlook Rd NW, Washington, DC 20016\n",
       "4   1250000    4     3   2295          3517 R St NW, Washington, DC 20007\n",
       "5    949900    4     5   1939  1315 Tuckerman St NW, Washington, DC 20011\n",
       "6    599000    2     2    880      411 Warner St NW, Washington, DC 20001\n",
       "7   4900000    7     5   6368       12 Logan Cir NW, Washington, DC 20005\n",
       "8    525000    3     3   2176   950 Division Ave NE, Washington, DC 20019\n",
       "9  11950000   11    17  17631  3301 Fessenden St NW, Washington, DC 20008"
      ]
     },
     "execution_count": 47,
     "metadata": {},
     "output_type": "execute_result"
    }
   ],
   "source": [
    "df = pandas.read_sql_query('select * from gp17.house1 ', conn)\n",
    "df[:10]"
   ]
  },
  {
   "cell_type": "markdown",
   "id": "72054bbd",
   "metadata": {},
   "source": [
    "## basic stat"
   ]
  },
  {
   "cell_type": "code",
   "execution_count": 48,
   "id": "5668435c",
   "metadata": {},
   "outputs": [
    {
     "data": {
      "text/html": [
       "<div>\n",
       "<style scoped>\n",
       "    .dataframe tbody tr th:only-of-type {\n",
       "        vertical-align: middle;\n",
       "    }\n",
       "\n",
       "    .dataframe tbody tr th {\n",
       "        vertical-align: top;\n",
       "    }\n",
       "\n",
       "    .dataframe thead th {\n",
       "        text-align: right;\n",
       "    }\n",
       "</style>\n",
       "<table border=\"1\" class=\"dataframe\">\n",
       "  <thead>\n",
       "    <tr style=\"text-align: right;\">\n",
       "      <th></th>\n",
       "      <th>price</th>\n",
       "      <th>bed</th>\n",
       "      <th>bath</th>\n",
       "      <th>area</th>\n",
       "    </tr>\n",
       "  </thead>\n",
       "  <tbody>\n",
       "    <tr>\n",
       "      <th>count</th>\n",
       "      <td>8.000000e+01</td>\n",
       "      <td>80.000000</td>\n",
       "      <td>80.000000</td>\n",
       "      <td>80.00000</td>\n",
       "    </tr>\n",
       "    <tr>\n",
       "      <th>mean</th>\n",
       "      <td>1.990536e+06</td>\n",
       "      <td>3.612500</td>\n",
       "      <td>3.737500</td>\n",
       "      <td>3072.01250</td>\n",
       "    </tr>\n",
       "    <tr>\n",
       "      <th>std</th>\n",
       "      <td>3.177635e+06</td>\n",
       "      <td>1.724681</td>\n",
       "      <td>2.646917</td>\n",
       "      <td>2992.49134</td>\n",
       "    </tr>\n",
       "    <tr>\n",
       "      <th>min</th>\n",
       "      <td>1.850000e+05</td>\n",
       "      <td>1.000000</td>\n",
       "      <td>1.000000</td>\n",
       "      <td>721.00000</td>\n",
       "    </tr>\n",
       "    <tr>\n",
       "      <th>25%</th>\n",
       "      <td>5.749750e+05</td>\n",
       "      <td>2.000000</td>\n",
       "      <td>2.000000</td>\n",
       "      <td>1300.50000</td>\n",
       "    </tr>\n",
       "    <tr>\n",
       "      <th>50%</th>\n",
       "      <td>8.749500e+05</td>\n",
       "      <td>3.000000</td>\n",
       "      <td>3.000000</td>\n",
       "      <td>2193.00000</td>\n",
       "    </tr>\n",
       "    <tr>\n",
       "      <th>75%</th>\n",
       "      <td>1.812250e+06</td>\n",
       "      <td>5.000000</td>\n",
       "      <td>5.000000</td>\n",
       "      <td>3424.50000</td>\n",
       "    </tr>\n",
       "    <tr>\n",
       "      <th>max</th>\n",
       "      <td>1.850000e+07</td>\n",
       "      <td>11.000000</td>\n",
       "      <td>17.000000</td>\n",
       "      <td>17631.00000</td>\n",
       "    </tr>\n",
       "  </tbody>\n",
       "</table>\n",
       "</div>"
      ],
      "text/plain": [
       "              price        bed       bath         area\n",
       "count  8.000000e+01  80.000000  80.000000     80.00000\n",
       "mean   1.990536e+06   3.612500   3.737500   3072.01250\n",
       "std    3.177635e+06   1.724681   2.646917   2992.49134\n",
       "min    1.850000e+05   1.000000   1.000000    721.00000\n",
       "25%    5.749750e+05   2.000000   2.000000   1300.50000\n",
       "50%    8.749500e+05   3.000000   3.000000   2193.00000\n",
       "75%    1.812250e+06   5.000000   5.000000   3424.50000\n",
       "max    1.850000e+07  11.000000  17.000000  17631.00000"
      ]
     },
     "execution_count": 48,
     "metadata": {},
     "output_type": "execute_result"
    }
   ],
   "source": [
    "df.describe()"
   ]
  },
  {
   "cell_type": "markdown",
   "id": "1c6ac4ee",
   "metadata": {},
   "source": [
    "## price distribution"
   ]
  },
  {
   "cell_type": "code",
   "execution_count": 49,
   "id": "27e12b92",
   "metadata": {},
   "outputs": [
    {
     "data": {
      "text/plain": [
       "<AxesSubplot:>"
      ]
     },
     "execution_count": 49,
     "metadata": {},
     "output_type": "execute_result"
    },
    {
     "data": {
      "image/png": "[encoded data removed]",
      "text/plain": [
       "<Figure size 432x288 with 1 Axes>"
      ]
     },
     "metadata": {
      "needs_background": "light"
     },
     "output_type": "display_data"
    }
   ],
   "source": [
    "df['price'].hist()"
   ]
  },
  {
   "cell_type": "markdown",
   "id": "e73f6d17",
   "metadata": {},
   "source": [
    "## bed vs bath"
   ]
  },
  {
   "cell_type": "code",
   "execution_count": 50,
   "id": "757bc8d0",
   "metadata": {},
   "outputs": [
    {
     "data": {
      "text/plain": [
       "<AxesSubplot:xlabel='bed', ylabel='bath'>"
      ]
     },
     "execution_count": 50,
     "metadata": {},
     "output_type": "execute_result"
    },
    {
     "data": {
      "image/png": "[encoded data removed]",
      "text/plain": [
       "<Figure size 432x288 with 1 Axes>"
      ]
     },
     "metadata": {
      "needs_background": "light"
     },
     "output_type": "display_data"
    }
   ],
   "source": [
    "df.plot.scatter(x='bed',y='bath')"
   ]
  },
  {
   "cell_type": "code",
   "execution_count": null,
   "id": "977cd7e0",
   "metadata": {},
   "outputs": [],
   "source": []
  }
 ],
 "metadata": {
  "kernelspec": {
   "display_name": "conda_python3",
   "language": "python",
   "name": "conda_python3"
  },
  "language_info": {
   "codemirror_mode": {
    "name": "ipython",
    "version": 3
   },
   "file_extension": ".py",
   "mimetype": "text/x-python",
   "name": "python",
   "nbconvert_exporter": "python",
   "pygments_lexer": "ipython3",
   "version": "3.6.13"
  }
 },
 "nbformat": 4,
 "nbformat_minor": 5
}
