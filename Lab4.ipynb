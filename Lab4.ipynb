{
 "cells": [
  {
   "cell_type": "markdown",
   "id": "dec5cd60",
   "metadata": {},
   "source": [
    "# import python libraries"
   ]
  },
  {
   "cell_type": "code",
   "execution_count": 1,
   "id": "3d4606e5",
   "metadata": {},
   "outputs": [
    {
     "name": "stderr",
     "output_type": "stream",
     "text": [
      "/home/ec2-user/anaconda3/envs/python3/lib/python3.6/site-packages/psycopg2/__init__.py:144: UserWarning: The psycopg2 wheel package will be renamed from release 2.8; in order to keep installing from binary please use \"pip install psycopg2-binary\" instead. For details see: <http://initd.org/psycopg/docs/install.html#binary-install-from-pypi>.\n",
      "  \"\"\")\n"
     ]
    }
   ],
   "source": [
    "import pandas\n",
    "import configparser\n",
    "import psycopg2"
   ]
  },
  {
   "cell_type": "markdown",
   "id": "b1386db1",
   "metadata": {},
   "source": [
    "# connect to database"
   ]
  },
  {
   "cell_type": "code",
   "execution_count": 2,
   "id": "aa6dbecf",
   "metadata": {},
   "outputs": [],
   "source": [
    "config = configparser.ConfigParser()\n",
    "config.read('config.ini')\n",
    "\n",
    "host=config['myaws']['host']\n",
    "db=config['myaws']['db']\n",
    "user=config['myaws']['user']\n",
    "pwd = config['myaws']['pwd']\n",
    "\n",
    "conn = psycopg2.connect(  host=host,\n",
    "                       user=user,\n",
    "                       password = pwd,\n",
    "                       dbname=db)"
   ]
  },
  {
   "cell_type": "code",
   "execution_count": 3,
   "id": "f4af82f8",
   "metadata": {},
   "outputs": [],
   "source": [
    "cur=conn.cursor()"
   ]
  },
  {
   "cell_type": "markdown",
   "id": "779c7266",
   "metadata": {},
   "source": [
    "# Q1"
   ]
  },
  {
   "cell_type": "code",
   "execution_count": 5,
   "id": "279c2fc9",
   "metadata": {},
   "outputs": [],
   "source": [
    "sql_stat = \"\"\"\n",
    "        select * from gp17.student\n",
    "\n",
    "\"\"\""
   ]
  },
  {
   "cell_type": "code",
   "execution_count": 6,
   "id": "634f6313",
   "metadata": {},
   "outputs": [
    {
     "data": {
      "text/html": [
       "<div>\n",
       "<style scoped>\n",
       "    .dataframe tbody tr th:only-of-type {\n",
       "        vertical-align: middle;\n",
       "    }\n",
       "\n",
       "    .dataframe tbody tr th {\n",
       "        vertical-align: top;\n",
       "    }\n",
       "\n",
       "    .dataframe thead th {\n",
       "        text-align: right;\n",
       "    }\n",
       "</style>\n",
       "<table border=\"1\" class=\"dataframe\">\n",
       "  <thead>\n",
       "    <tr style=\"text-align: right;\">\n",
       "      <th></th>\n",
       "      <th>s_email</th>\n",
       "      <th>s_name</th>\n",
       "      <th>s_major</th>\n",
       "    </tr>\n",
       "  </thead>\n",
       "  <tbody>\n",
       "    <tr>\n",
       "      <th>0</th>\n",
       "      <td>smithj@jmu.edu</td>\n",
       "      <td>John Smith</td>\n",
       "      <td>IA</td>\n",
       "    </tr>\n",
       "    <tr>\n",
       "      <th>1</th>\n",
       "      <td>johnsonq@jmu.edu</td>\n",
       "      <td>Quincy Johnson</td>\n",
       "      <td>IA</td>\n",
       "    </tr>\n",
       "    <tr>\n",
       "      <th>2</th>\n",
       "      <td>adamsj@jmu.edu</td>\n",
       "      <td>John Adams</td>\n",
       "      <td>IA</td>\n",
       "    </tr>\n",
       "    <tr>\n",
       "      <th>3</th>\n",
       "      <td>jacksona@jmu.edu</td>\n",
       "      <td>Andrew Jackson</td>\n",
       "      <td>IA</td>\n",
       "    </tr>\n",
       "    <tr>\n",
       "      <th>4</th>\n",
       "      <td>s10@jmu.edu</td>\n",
       "      <td>s6</td>\n",
       "      <td>ia</td>\n",
       "    </tr>\n",
       "  </tbody>\n",
       "</table>\n",
       "</div>"
      ],
      "text/plain": [
       "            s_email          s_name s_major\n",
       "0    smithj@jmu.edu      John Smith      IA\n",
       "1  johnsonq@jmu.edu  Quincy Johnson      IA\n",
       "2    adamsj@jmu.edu      John Adams      IA\n",
       "3  jacksona@jmu.edu  Andrew Jackson      IA\n",
       "4       s10@jmu.edu              s6      ia"
      ]
     },
     "execution_count": 6,
     "metadata": {},
     "output_type": "execute_result"
    }
   ],
   "source": [
    "df = pandas.read_sql_query(sql_stat,conn)\n",
    "df[:]"
   ]
  },
  {
   "cell_type": "markdown",
   "id": "d35c94d9",
   "metadata": {},
   "source": [
    "# Q2"
   ]
  },
  {
   "cell_type": "code",
   "execution_count": 14,
   "id": "704200a4",
   "metadata": {},
   "outputs": [],
   "source": [
    "sql_stat = \"\"\"\n",
    "        select gp17.professor.p_name,\n",
    "            gp17.course.c_name\n",
    "        from gp17.professor\n",
    "        inner join gp17.course\n",
    "        on gp17.professor.p_email = gp17.course.p_email\n",
    "    \n",
    "\"\"\""
   ]
  },
  {
   "cell_type": "code",
   "execution_count": 15,
   "id": "8650dbe1",
   "metadata": {
    "scrolled": true
   },
   "outputs": [
    {
     "data": {
      "text/html": [
       "<div>\n",
       "<style scoped>\n",
       "    .dataframe tbody tr th:only-of-type {\n",
       "        vertical-align: middle;\n",
       "    }\n",
       "\n",
       "    .dataframe tbody tr th {\n",
       "        vertical-align: top;\n",
       "    }\n",
       "\n",
       "    .dataframe thead th {\n",
       "        text-align: right;\n",
       "    }\n",
       "</style>\n",
       "<table border=\"1\" class=\"dataframe\">\n",
       "  <thead>\n",
       "    <tr style=\"text-align: right;\">\n",
       "      <th></th>\n",
       "      <th>p_name</th>\n",
       "      <th>c_name</th>\n",
       "    </tr>\n",
       "  </thead>\n",
       "  <tbody>\n",
       "    <tr>\n",
       "      <th>0</th>\n",
       "      <td>Xeubin Wei</td>\n",
       "      <td>IA 101</td>\n",
       "    </tr>\n",
       "    <tr>\n",
       "      <th>1</th>\n",
       "      <td>Noel Hendrickson</td>\n",
       "      <td>IA 202</td>\n",
       "    </tr>\n",
       "    <tr>\n",
       "      <th>2</th>\n",
       "      <td>Orlandrew Danzell</td>\n",
       "      <td>IA 404</td>\n",
       "    </tr>\n",
       "    <tr>\n",
       "      <th>3</th>\n",
       "      <td>Darth Vader</td>\n",
       "      <td>IA 505</td>\n",
       "    </tr>\n",
       "    <tr>\n",
       "      <th>4</th>\n",
       "      <td>Darth Vader</td>\n",
       "      <td>IA 303</td>\n",
       "    </tr>\n",
       "  </tbody>\n",
       "</table>\n",
       "</div>"
      ],
      "text/plain": [
       "              p_name  c_name\n",
       "0         Xeubin Wei  IA 101\n",
       "1   Noel Hendrickson  IA 202\n",
       "2  Orlandrew Danzell  IA 404\n",
       "3        Darth Vader  IA 505\n",
       "4        Darth Vader  IA 303"
      ]
     },
     "execution_count": 15,
     "metadata": {},
     "output_type": "execute_result"
    }
   ],
   "source": [
    "df = pandas.read_sql_query(sql_stat,conn)\n",
    "df[:]"
   ]
  },
  {
   "cell_type": "markdown",
   "id": "71ea9578",
   "metadata": {},
   "source": [
    "# Q3"
   ]
  },
  {
   "cell_type": "code",
   "execution_count": 18,
   "id": "09628d90",
   "metadata": {},
   "outputs": [],
   "source": [
    "sql_stat = \"\"\"\n",
    "        select count(c_number) as enrolled,\n",
    "        c_number\n",
    "        from gp17.enroll_list\n",
    "        group by c_number\n",
    "\"\"\""
   ]
  },
  {
   "cell_type": "code",
   "execution_count": 24,
   "id": "8c335c7a",
   "metadata": {},
   "outputs": [
    {
     "data": {
      "text/plain": [
       "<AxesSubplot:xlabel='c_number'>"
      ]
     },
     "execution_count": 24,
     "metadata": {},
     "output_type": "execute_result"
    },
    {
     "data": {
      "image/png": "[encoded data removed]",
      "text/plain": [
       "<Figure size 432x288 with 1 Axes>"
      ]
     },
     "metadata": {
      "needs_background": "light"
     },
     "output_type": "display_data"
    }
   ],
   "source": [
    "df = pandas.read_sql_query(sql_stat,conn)\n",
    "df.plot.bar(x='c_number',y='enrolled')"
   ]
  },
  {
   "cell_type": "markdown",
   "id": "e414d62a",
   "metadata": {},
   "source": [
    "# Q4"
   ]
  },
  {
   "cell_type": "code",
   "execution_count": 38,
   "id": "9c4e39db",
   "metadata": {},
   "outputs": [],
   "source": [
    "sql_stat = \"\"\"\n",
    "        select gp17.professor.p_name,\n",
    "            count(gp17.course.c_name) as teaching_number\n",
    "        from gp17.professor\n",
    "        inner join gp17.course\n",
    "        on gp17.professor.p_email = gp17.course.p_email\n",
    "        group by professor.p_name\n",
    "        order by teaching_number desc\n",
    "\"\"\""
   ]
  },
  {
   "cell_type": "code",
   "execution_count": 40,
   "id": "a1a76f24",
   "metadata": {},
   "outputs": [
    {
     "data": {
      "text/plain": [
       "<AxesSubplot:xlabel='p_name'>"
      ]
     },
     "execution_count": 40,
     "metadata": {},
     "output_type": "execute_result"
    },
    {
     "data": {
      "image/png": "[encoded data removed]",
      "text/plain": [
       "<Figure size 432x288 with 1 Axes>"
      ]
     },
     "metadata": {
      "needs_background": "light"
     },
     "output_type": "display_data"
    }
   ],
   "source": [
    "df = pandas.read_sql_query(sql_stat,conn)\n",
    "df.plot.bar(x='p_name',y='teaching_number')"
   ]
  },
  {
   "cell_type": "markdown",
   "id": "5c8dbdce",
   "metadata": {},
   "source": [
    "# Q5"
   ]
  },
  {
   "cell_type": "code",
   "execution_count": 53,
   "id": "79d5e9bc",
   "metadata": {},
   "outputs": [],
   "source": [
    "sql_stat = \"\"\"\n",
    "        insert into gp17.professor(p_email,p_name,p_office)\n",
    "        values ('revand@jmu.edu','Darth Revan','ISAT 206')\n",
    "\"\"\""
   ]
  },
  {
   "cell_type": "code",
   "execution_count": 56,
   "id": "7dfefbec",
   "metadata": {},
   "outputs": [
    {
     "data": {
      "text/html": [
       "<div>\n",
       "<style scoped>\n",
       "    .dataframe tbody tr th:only-of-type {\n",
       "        vertical-align: middle;\n",
       "    }\n",
       "\n",
       "    .dataframe tbody tr th {\n",
       "        vertical-align: top;\n",
       "    }\n",
       "\n",
       "    .dataframe thead th {\n",
       "        text-align: right;\n",
       "    }\n",
       "</style>\n",
       "<table border=\"1\" class=\"dataframe\">\n",
       "  <thead>\n",
       "    <tr style=\"text-align: right;\">\n",
       "      <th></th>\n",
       "      <th>p_email</th>\n",
       "      <th>p_name</th>\n",
       "      <th>p_office</th>\n",
       "    </tr>\n",
       "  </thead>\n",
       "  <tbody>\n",
       "    <tr>\n",
       "      <th>0</th>\n",
       "      <td>weix@jmu.edu</td>\n",
       "      <td>Xeubin Wei</td>\n",
       "      <td>ISAT 201</td>\n",
       "    </tr>\n",
       "    <tr>\n",
       "      <th>1</th>\n",
       "      <td>hendricksonn@jmu.edu</td>\n",
       "      <td>Noel Hendrickson</td>\n",
       "      <td>ISAT 203</td>\n",
       "    </tr>\n",
       "    <tr>\n",
       "      <th>2</th>\n",
       "      <td>danzello@jmu.edu</td>\n",
       "      <td>Orlandrew Danzell</td>\n",
       "      <td>ISAT 204</td>\n",
       "    </tr>\n",
       "    <tr>\n",
       "      <th>3</th>\n",
       "      <td>vaderd@dukes.jmu.edu</td>\n",
       "      <td>Darth Vader</td>\n",
       "      <td>ISAT 205</td>\n",
       "    </tr>\n",
       "    <tr>\n",
       "      <th>4</th>\n",
       "      <td>revand@jmu.edu</td>\n",
       "      <td>Darth Revan</td>\n",
       "      <td>ISAT 206</td>\n",
       "    </tr>\n",
       "  </tbody>\n",
       "</table>\n",
       "</div>"
      ],
      "text/plain": [
       "                p_email             p_name  p_office\n",
       "0          weix@jmu.edu         Xeubin Wei  ISAT 201\n",
       "1  hendricksonn@jmu.edu   Noel Hendrickson  ISAT 203\n",
       "2      danzello@jmu.edu  Orlandrew Danzell  ISAT 204\n",
       "3  vaderd@dukes.jmu.edu        Darth Vader  ISAT 205\n",
       "4        revand@jmu.edu        Darth Revan  ISAT 206"
      ]
     },
     "execution_count": 56,
     "metadata": {},
     "output_type": "execute_result"
    }
   ],
   "source": [
    "df = pandas.read_sql_query(\"select * from gp17.professor\",conn)\n",
    "df[:]"
   ]
  },
  {
   "cell_type": "code",
   "execution_count": 57,
   "id": "743a2ce4",
   "metadata": {},
   "outputs": [],
   "source": [
    "sql_stat = \"\"\"\n",
    "        insert into gp17.course(c_number,c_name,c_room,p_email)\n",
    "        values('606','IA 606','ISAT 250','revand@jmu.edu')\n",
    "\"\"\""
   ]
  },
  {
   "cell_type": "code",
   "execution_count": 59,
   "id": "7eb60635",
   "metadata": {},
   "outputs": [
    {
     "data": {
      "text/html": [
       "<div>\n",
       "<style scoped>\n",
       "    .dataframe tbody tr th:only-of-type {\n",
       "        vertical-align: middle;\n",
       "    }\n",
       "\n",
       "    .dataframe tbody tr th {\n",
       "        vertical-align: top;\n",
       "    }\n",
       "\n",
       "    .dataframe thead th {\n",
       "        text-align: right;\n",
       "    }\n",
       "</style>\n",
       "<table border=\"1\" class=\"dataframe\">\n",
       "  <thead>\n",
       "    <tr style=\"text-align: right;\">\n",
       "      <th></th>\n",
       "      <th>c_number</th>\n",
       "      <th>c_name</th>\n",
       "      <th>c_room</th>\n",
       "      <th>p_email</th>\n",
       "    </tr>\n",
       "  </thead>\n",
       "  <tbody>\n",
       "    <tr>\n",
       "      <th>0</th>\n",
       "      <td>101</td>\n",
       "      <td>IA 101</td>\n",
       "      <td>ISAT 125</td>\n",
       "      <td>weix@jmu.edu</td>\n",
       "    </tr>\n",
       "    <tr>\n",
       "      <th>1</th>\n",
       "      <td>202</td>\n",
       "      <td>IA 202</td>\n",
       "      <td>ISAT 150</td>\n",
       "      <td>hendricksonn@jmu.edu</td>\n",
       "    </tr>\n",
       "    <tr>\n",
       "      <th>2</th>\n",
       "      <td>404</td>\n",
       "      <td>IA 404</td>\n",
       "      <td>ISAT 200</td>\n",
       "      <td>danzello@jmu.edu</td>\n",
       "    </tr>\n",
       "    <tr>\n",
       "      <th>3</th>\n",
       "      <td>505</td>\n",
       "      <td>IA 505</td>\n",
       "      <td>ISAt 225</td>\n",
       "      <td>vaderd@dukes.jmu.edu</td>\n",
       "    </tr>\n",
       "    <tr>\n",
       "      <th>4</th>\n",
       "      <td>303</td>\n",
       "      <td>IA 303</td>\n",
       "      <td>ISAT 175</td>\n",
       "      <td>vaderd@dukes.jmu.edu</td>\n",
       "    </tr>\n",
       "  </tbody>\n",
       "</table>\n",
       "</div>"
      ],
      "text/plain": [
       "  c_number  c_name    c_room               p_email\n",
       "0      101  IA 101  ISAT 125          weix@jmu.edu\n",
       "1      202  IA 202  ISAT 150  hendricksonn@jmu.edu\n",
       "2      404  IA 404  ISAT 200      danzello@jmu.edu\n",
       "3      505  IA 505  ISAt 225  vaderd@dukes.jmu.edu\n",
       "4      303  IA 303  ISAT 175  vaderd@dukes.jmu.edu"
      ]
     },
     "execution_count": 59,
     "metadata": {},
     "output_type": "execute_result"
    }
   ],
   "source": [
    "df = pandas.read_sql_query(\"select * from gp17.course\",conn)\n",
    "df[:]"
   ]
  },
  {
   "cell_type": "markdown",
   "id": "64f35f48",
   "metadata": {},
   "source": [
    "# Q6"
   ]
  },
  {
   "cell_type": "code",
   "execution_count": 71,
   "id": "218f35fe",
   "metadata": {},
   "outputs": [],
   "source": [
    "sql_stat = \"\"\"\n",
    "        update gp17.course\n",
    "        set p_email = 'revand@jmu.edu'\n",
    "        where c_number = '202'\n",
    "\"\"\""
   ]
  },
  {
   "cell_type": "code",
   "execution_count": 72,
   "id": "66beef25",
   "metadata": {},
   "outputs": [],
   "source": [
    "cur.execute(sql_stat)"
   ]
  },
  {
   "cell_type": "code",
   "execution_count": 73,
   "id": "11b23aac",
   "metadata": {},
   "outputs": [],
   "source": [
    "conn.commit()"
   ]
  },
  {
   "cell_type": "code",
   "execution_count": 74,
   "id": "0b4e3e29",
   "metadata": {},
   "outputs": [
    {
     "data": {
      "text/html": [
       "<div>\n",
       "<style scoped>\n",
       "    .dataframe tbody tr th:only-of-type {\n",
       "        vertical-align: middle;\n",
       "    }\n",
       "\n",
       "    .dataframe tbody tr th {\n",
       "        vertical-align: top;\n",
       "    }\n",
       "\n",
       "    .dataframe thead th {\n",
       "        text-align: right;\n",
       "    }\n",
       "</style>\n",
       "<table border=\"1\" class=\"dataframe\">\n",
       "  <thead>\n",
       "    <tr style=\"text-align: right;\">\n",
       "      <th></th>\n",
       "      <th>c_number</th>\n",
       "      <th>c_name</th>\n",
       "      <th>c_room</th>\n",
       "      <th>p_email</th>\n",
       "    </tr>\n",
       "  </thead>\n",
       "  <tbody>\n",
       "    <tr>\n",
       "      <th>0</th>\n",
       "      <td>101</td>\n",
       "      <td>IA 101</td>\n",
       "      <td>ISAT 125</td>\n",
       "      <td>weix@jmu.edu</td>\n",
       "    </tr>\n",
       "    <tr>\n",
       "      <th>1</th>\n",
       "      <td>404</td>\n",
       "      <td>IA 404</td>\n",
       "      <td>ISAT 200</td>\n",
       "      <td>danzello@jmu.edu</td>\n",
       "    </tr>\n",
       "    <tr>\n",
       "      <th>2</th>\n",
       "      <td>505</td>\n",
       "      <td>IA 505</td>\n",
       "      <td>ISAt 225</td>\n",
       "      <td>vaderd@dukes.jmu.edu</td>\n",
       "    </tr>\n",
       "    <tr>\n",
       "      <th>3</th>\n",
       "      <td>303</td>\n",
       "      <td>IA 303</td>\n",
       "      <td>ISAT 175</td>\n",
       "      <td>vaderd@dukes.jmu.edu</td>\n",
       "    </tr>\n",
       "    <tr>\n",
       "      <th>4</th>\n",
       "      <td>202</td>\n",
       "      <td>IA 202</td>\n",
       "      <td>ISAT 150</td>\n",
       "      <td>revand@jmu.edu</td>\n",
       "    </tr>\n",
       "  </tbody>\n",
       "</table>\n",
       "</div>"
      ],
      "text/plain": [
       "  c_number  c_name    c_room               p_email\n",
       "0      101  IA 101  ISAT 125          weix@jmu.edu\n",
       "1      404  IA 404  ISAT 200      danzello@jmu.edu\n",
       "2      505  IA 505  ISAt 225  vaderd@dukes.jmu.edu\n",
       "3      303  IA 303  ISAT 175  vaderd@dukes.jmu.edu\n",
       "4      202  IA 202  ISAT 150        revand@jmu.edu"
      ]
     },
     "execution_count": 74,
     "metadata": {},
     "output_type": "execute_result"
    }
   ],
   "source": [
    "df = pandas.read_sql_query(\"select * from gp17.course\",conn)\n",
    "df[:]"
   ]
  },
  {
   "cell_type": "code",
   "execution_count": 75,
   "id": "465082bc",
   "metadata": {},
   "outputs": [],
   "source": [
    "sql_stat = \"\"\"\n",
    "        delete from gp17.professor\n",
    "        where p_email = 'hendricksonn@jmu.edu'\n",
    "\"\"\""
   ]
  },
  {
   "cell_type": "code",
   "execution_count": 76,
   "id": "72bc4fa0",
   "metadata": {},
   "outputs": [],
   "source": [
    "cur.execute(sql_stat)"
   ]
  },
  {
   "cell_type": "code",
   "execution_count": 77,
   "id": "2f5532d6",
   "metadata": {},
   "outputs": [],
   "source": [
    "conn.commit()"
   ]
  },
  {
   "cell_type": "code",
   "execution_count": 78,
   "id": "f664ed72",
   "metadata": {},
   "outputs": [
    {
     "data": {
      "text/html": [
       "<div>\n",
       "<style scoped>\n",
       "    .dataframe tbody tr th:only-of-type {\n",
       "        vertical-align: middle;\n",
       "    }\n",
       "\n",
       "    .dataframe tbody tr th {\n",
       "        vertical-align: top;\n",
       "    }\n",
       "\n",
       "    .dataframe thead th {\n",
       "        text-align: right;\n",
       "    }\n",
       "</style>\n",
       "<table border=\"1\" class=\"dataframe\">\n",
       "  <thead>\n",
       "    <tr style=\"text-align: right;\">\n",
       "      <th></th>\n",
       "      <th>p_email</th>\n",
       "      <th>p_name</th>\n",
       "      <th>p_office</th>\n",
       "    </tr>\n",
       "  </thead>\n",
       "  <tbody>\n",
       "    <tr>\n",
       "      <th>0</th>\n",
       "      <td>weix@jmu.edu</td>\n",
       "      <td>Xeubin Wei</td>\n",
       "      <td>ISAT 201</td>\n",
       "    </tr>\n",
       "    <tr>\n",
       "      <th>1</th>\n",
       "      <td>danzello@jmu.edu</td>\n",
       "      <td>Orlandrew Danzell</td>\n",
       "      <td>ISAT 204</td>\n",
       "    </tr>\n",
       "    <tr>\n",
       "      <th>2</th>\n",
       "      <td>vaderd@dukes.jmu.edu</td>\n",
       "      <td>Darth Vader</td>\n",
       "      <td>ISAT 205</td>\n",
       "    </tr>\n",
       "    <tr>\n",
       "      <th>3</th>\n",
       "      <td>revand@jmu.edu</td>\n",
       "      <td>Darth Revan</td>\n",
       "      <td>ISAT 206</td>\n",
       "    </tr>\n",
       "  </tbody>\n",
       "</table>\n",
       "</div>"
      ],
      "text/plain": [
       "                p_email             p_name  p_office\n",
       "0          weix@jmu.edu         Xeubin Wei  ISAT 201\n",
       "1      danzello@jmu.edu  Orlandrew Danzell  ISAT 204\n",
       "2  vaderd@dukes.jmu.edu        Darth Vader  ISAT 205\n",
       "3        revand@jmu.edu        Darth Revan  ISAT 206"
      ]
     },
     "execution_count": 78,
     "metadata": {},
     "output_type": "execute_result"
    }
   ],
   "source": [
    "df = pandas.read_sql_query(\"select * from gp17.professor\",conn)\n",
    "df[:]"
   ]
  },
  {
   "cell_type": "code",
   "execution_count": 79,
   "id": "855e2f09",
   "metadata": {},
   "outputs": [],
   "source": [
    "cur.close()"
   ]
  },
  {
   "cell_type": "code",
   "execution_count": 80,
   "id": "3ad0d8ac",
   "metadata": {},
   "outputs": [],
   "source": [
    "conn.close()"
   ]
  },
  {
   "cell_type": "code",
   "execution_count": null,
   "id": "c4a129ac",
   "metadata": {},
   "outputs": [],
   "source": []
  }
 ],
 "metadata": {
  "kernelspec": {
   "display_name": "conda_python3",
   "language": "python",
   "name": "conda_python3"
  },
  "language_info": {
   "codemirror_mode": {
    "name": "ipython",
    "version": 3
   },
   "file_extension": ".py",
   "mimetype": "text/x-python",
   "name": "python",
   "nbconvert_exporter": "python",
   "pygments_lexer": "ipython3",
   "version": "3.6.13"
  }
 },
 "nbformat": 4,
 "nbformat_minor": 5
}
